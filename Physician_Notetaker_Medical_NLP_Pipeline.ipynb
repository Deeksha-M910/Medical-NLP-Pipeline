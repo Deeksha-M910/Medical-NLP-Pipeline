{
  "nbformat": 4,
  "nbformat_minor": 0,
  "metadata": {
    "colab": {
      "provenance": [],
      "authorship_tag": "ABX9TyOjMDY/J8NgAUmLiQvyQUvN"
    },
    "kernelspec": {
      "name": "python3",
      "display_name": "Python 3"
    },
    "language_info": {
      "name": "python"
    }
  },
  "cells": [
    {
      "cell_type": "markdown",
      "source": [
        "# **Physician Notetaker: Medical NLP Pipeline**\n",
        "\n"
      ],
      "metadata": {
        "id": "rBQfRH1v2cH0"
      }
    },
    {
      "cell_type": "markdown",
      "source": [
        "An AI-powered system for medical transcription, summarization, sentiment analysis, and SOAP note generation. Processes physician-patient conversations to extract key details, analyze sentiment, and generate structured reports."
      ],
      "metadata": {
        "id": "ZhMyI3JY2jwo"
      }
    },
    {
      "cell_type": "markdown",
      "source": [
        "\n",
        "## Features  \n",
        "\n",
        "### Medical NLP Summarization  \n",
        "- Extracts **Symptoms, Diagnosis, Treatment, Prognosis**.  \n",
        "- Generates structured **medical reports in JSON**.  \n",
        "\n",
        "### Sentiment & Intent Analysis  \n",
        "- Classifies sentiment (**Anxious, Neutral, Reassured**).  \n",
        "- Detects intent (e.g., **\"Seeking reassurance\"**).  \n",
        "\n",
        "### SOAP Note Generation  \n",
        "- Converts transcripts into structured **SOAP notes**.  \n",
        "\n"
      ],
      "metadata": {
        "id": "CcDQFVHo2tys"
      }
    },
    {
      "cell_type": "markdown",
      "source": [
        "1. Medical NLP Summarization"
      ],
      "metadata": {
        "id": "0kYfLz6IJ5Hn"
      }
    },
    {
      "cell_type": "code",
      "source": [
        "import spacy\n",
        "from spacy.matcher import PhraseMatcher\n",
        "from collections import defaultdict\n",
        "\n",
        "# Load spaCy model\n",
        "nlp = spacy.load(\"en_core_web_sm\")\n",
        "\n",
        "# Define medical terms for rule-based matching\n",
        "symptom_terms = [\"pain\", \"discomfort\", \"backache\", \"neck pain\", \"back pain\", \"headache\"]\n",
        "diagnosis_terms = [\"whiplash injury\"]\n",
        "treatment_terms = [\"physiotherapy\", \"painkillers\", \"X-rays\"]\n",
        "prognosis_terms = [\"full recovery\", \"no long-term damage\", \"no signs of degeneration\"]\n",
        "\n",
        "# Create a PhraseMatcher object\n",
        "matcher = PhraseMatcher(nlp.vocab, attr=\"LOWER\")\n",
        "\n",
        "# Add patterns to the matcher\n",
        "matcher.add(\"SYMPTOM\", [nlp.make_doc(term) for term in symptom_terms])\n",
        "matcher.add(\"DIAGNOSIS\", [nlp.make_doc(term) for term in diagnosis_terms])\n",
        "matcher.add(\"TREATMENT\", [nlp.make_doc(term) for term in treatment_terms])\n",
        "matcher.add(\"PROGNOSIS\", [nlp.make_doc(term) for term in prognosis_terms])\n",
        "\n",
        "# Sample transcript\n",
        "transcript = \"\"\"\n",
        "Physician: Good morning, Ms. Jones. How are you feeling today?\n",
        "Patient: Good morning, doctor. I’m doing better, but I still have some discomfort now and then.\n",
        "Physician: I understand you were in a car accident last September. Can you walk me through what happened?\n",
        "Patient: Yes, it was on September 1st, around 12:30 in the afternoon. I was driving from Cheadle Hulme to Manchester when I had to stop in traffic. Out of nowhere, another car hit me from behind, which pushed my car into the one in front.\n",
        "Physician: That sounds like a strong impact. Were you wearing your seatbelt?\n",
        "Patient: Yes, I always do.\n",
        "Physician: What did you feel immediately after the accident?\n",
        "Patient: At first, I was just shocked. But then I realized I had hit my head on the steering wheel, and I could feel pain in my neck and back almost right away.\n",
        "Physician: Did you seek medical attention at that time?\n",
        "Patient: Yes, I went to Moss Bank Accident and Emergency. They checked me over and said it was a whiplash injury, but they didn’t do any X-rays. They just gave me some advice and sent me home.\n",
        "Physician: How did things progress after that?\n",
        "Patient: The first four weeks were rough. My neck and back pain were really bad—I had trouble sleeping and had to take painkillers regularly. It started improving after that, but I had to go through ten sessions of physiotherapy to help with the stiffness and discomfort.\n",
        "Physician: That makes sense. Are you still experiencing pain now?\n",
        "Patient: It’s not constant, but I do get occasional backaches. It’s nothing like before, though.\n",
        "Physician: That’s good to hear. Have you noticed any other effects, like anxiety while driving or difficulty concentrating?\n",
        "Patient: No, nothing like that. I don’t feel nervous driving, and I haven’t had any emotional issues from the accident.\n",
        "Physician: And how has this impacted your daily life? Work, hobbies, anything like that?\n",
        "Patient: I had to take a week off work, but after that, I was back to my usual routine. It hasn’t really stopped me from doing anything.\n",
        "Physician: That’s encouraging. Let’s go ahead and do a physical examination to check your mobility and any lingering pain.\n",
        "[Physical Examination Conducted]\n",
        "Physician: Everything looks good. Your neck and back have a full range of movement, and there’s no tenderness or signs of lasting damage. Your muscles and spine seem to be in good condition.\n",
        "Patient: That’s a relief!\n",
        "Physician: Yes, your recovery so far has been quite positive. Given your progress, I’d expect you to make a full recovery within six months of the accident. There are no signs of long-term damage or degeneration.\n",
        "Patient: That’s great to hear. So, I don’t need to worry about this affecting me in the future?\n",
        "Physician: That’s right. I don’t foresee any long-term impact on your work or daily life. If anything changes or you experience worsening symptoms, you can always come back for a follow-up. But at this point, you’re on track for a full recovery.\n",
        "Patient: Thank you, doctor. I appreciate it.\n",
        "Physician: You’re very welcome, Ms. Jones. Take care, and don’t hesitate to reach out if you need anything.\n",
        "\"\"\"\n",
        "\n",
        "# Process the transcript with spaCy\n",
        "doc = nlp(transcript)\n",
        "\n",
        "# Extract entities using the PhraseMatcher\n",
        "entity_dict = defaultdict(set)\n",
        "\n",
        "for match_id, start, end in matcher(doc):\n",
        "    label = nlp.vocab.strings[match_id]  # Get the matched label (SYMPTOM, DIAGNOSIS, etc.)\n",
        "    entity_dict[label].add(doc[start:end].text)\n",
        "\n",
        "# Convert sets to lists for JSON compatibility\n",
        "medical_report = {\n",
        "    \"Patient_Name\": \"Janet Jones\",\n",
        "    \"Symptoms\": list(entity_dict[\"SYMPTOM\"]),\n",
        "    \"Diagnosis\": list(entity_dict[\"DIAGNOSIS\"]),\n",
        "    \"Treatment\": list(entity_dict[\"TREATMENT\"]),\n",
        "    \"Current_Status\": \"Occasional backache\" if \"backache\" in entity_dict[\"SYMPTOM\"] else \"Improved condition\",\n",
        "    \"Prognosis\": list(entity_dict[\"PROGNOSIS\"])\n",
        "}\n",
        "\n",
        "print(\"Medical Report:\")\n",
        "print(medical_report)\n"
      ],
      "metadata": {
        "colab": {
          "base_uri": "https://localhost:8080/"
        },
        "id": "bvAubaqMTE-W",
        "outputId": "b7da874c-8b6b-45a6-fe73-7ad1582d4609"
      },
      "execution_count": 6,
      "outputs": [
        {
          "output_type": "stream",
          "name": "stdout",
          "text": [
            "Medical Report:\n",
            "{'Patient_Name': 'Janet Jones', 'Symptoms': ['back pain', 'discomfort', 'pain'], 'Diagnosis': ['whiplash injury'], 'Treatment': ['physiotherapy', 'X-rays', 'painkillers'], 'Current_Status': 'Improved condition', 'Prognosis': ['full recovery']}\n"
          ]
        }
      ]
    },
    {
      "cell_type": "markdown",
      "source": [
        "**📍 Questions:**\n",
        "\n",
        "- How would you handle **ambiguous or missing medical data** in the transcript?\n",
        "- What **pre-trained NLP models** would you use for medical summarization?"
      ],
      "metadata": {
        "id": "C3s0xZBmYOar"
      }
    },
    {
      "cell_type": "markdown",
      "source": [
        "### **Handling ambiguous or missing medical data:**  \n",
        "- Use Named Entity Recognition (NER) models trained on medical datasets (like scispaCy or Med7).  \n",
        "- Implement rule-based logic to infer missing details based on context (e.g., if symptoms are mentioned without a diagnosis, flag for manual review).  \n",
        "- Use GPT-based models to summarize conversations and suggest missing details probabilistically.  \n",
        "\n",
        "### **Pre-trained NLP models for medical summarization:**  \n",
        "- **scispaCy** – for biomedical NER.  \n",
        "- **BioBERT** – for medical text processing.  \n",
        "- **ClinicalBERT** – fine-tuned for clinical notes.  \n",
        "- **MedGPT** – for generating structured medical summaries."
      ],
      "metadata": {
        "id": "4b6H1u8pYoPi"
      }
    },
    {
      "cell_type": "markdown",
      "source": [
        "2. Sentiment & Intent Analysis"
      ],
      "metadata": {
        "id": "RSfjwyJpKGWx"
      }
    },
    {
      "cell_type": "code",
      "source": [
        "from transformers import pipeline\n",
        "\n",
        "# Load a better sentiment model\n",
        "sentiment_analyzer = pipeline(\"sentiment-analysis\", model=\"distilbert-base-uncased-finetuned-sst-2-english\")\n",
        "\n",
        "# Define intent classification rules\n",
        "intent_keywords = {\n",
        "    \"Seeking reassurance\": [\"worried\", \"hope\", \"relief\", \"concerned\"],\n",
        "    \"Reporting symptoms\": [\"pain\", \"discomfort\", \"ache\", \"injury\"],\n",
        "    \"Expressing concern\": [\"afraid\", \"anxious\", \"worried\"]\n",
        "}\n",
        "\n",
        "# Custom sentiment mapping\n",
        "def map_sentiment(label, text):\n",
        "    if label == \"NEGATIVE\" or any(word in text.lower() for word in [\"worried\", \"concerned\", \"afraid\", \"anxious\"]):\n",
        "        return \"Anxious\"\n",
        "    elif label == \"POSITIVE\":\n",
        "        return \"Reassured\"\n",
        "    return \"Neutral\"\n",
        "\n",
        "# Classify intent based on keywords\n",
        "def classify_intent(text):\n",
        "    for intent, keywords in intent_keywords.items():\n",
        "        if any(word in text.lower() for word in keywords):\n",
        "            return intent\n",
        "    return \"General statement\"\n",
        "\n",
        "# Final function to process patient dialogue\n",
        "def analyze_patient_dialogue(text):\n",
        "    # Get sentiment\n",
        "    sentiment_result = sentiment_analyzer(text)[0]\n",
        "    sentiment_label = map_sentiment(sentiment_result['label'], text)\n",
        "\n",
        "    # Get intent classification\n",
        "    intent = classify_intent(text)\n",
        "\n",
        "    return {\n",
        "        \"Sentiment\": sentiment_label,\n",
        "        \"Intent\": intent\n",
        "    }\n",
        "\n",
        "# Sample input\n",
        "text = \"I'm a bit worried about my back pain, but I hope it gets better soon.\"\n",
        "\n",
        "# Output result\n",
        "result = analyze_patient_dialogue(text)\n",
        "print(result)\n"
      ],
      "metadata": {
        "colab": {
          "base_uri": "https://localhost:8080/"
        },
        "id": "ZEof9t97UeVX",
        "outputId": "8bc361f8-026a-4d03-979d-5778aca5d77a"
      },
      "execution_count": 10,
      "outputs": [
        {
          "output_type": "stream",
          "name": "stderr",
          "text": [
            "Device set to use cpu\n"
          ]
        },
        {
          "output_type": "stream",
          "name": "stdout",
          "text": [
            "{'Sentiment': 'Anxious', 'Intent': 'Seeking reassurance'}\n"
          ]
        }
      ]
    },
    {
      "cell_type": "markdown",
      "source": [
        "**📍 Questions:**\n",
        "\n",
        "- How would you fine-tune **BERT** for medical sentiment detection?\n",
        "- What datasets would you use for training a **healthcare-specific** sentiment model?"
      ],
      "metadata": {
        "id": "lyp5o7YUZDRX"
      }
    },
    {
      "cell_type": "markdown",
      "source": [
        "\n",
        "### **Fine-tuning BERT for medical sentiment detection:**  \n",
        "   - Use BioBERT or ClinicalBERT as a base model.  \n",
        "   - Fine-tune on a labeled dataset of medical conversations (e.g., MIMIC-III patient dialogues).  \n",
        "   - Augment data using synthetic examples of anxious vs. reassured patient statements.  \n",
        "   - Apply transfer learning with domain-specific vocabulary expansion.  \n",
        "\n",
        "### **Datasets for training a healthcare-specific sentiment model:**  \n",
        "   - **MIMIC-III** (ICU patient records and conversations).  \n",
        "   - **i2b2** (clinical NLP dataset for de-identification and sentiment classification).  \n",
        "   - **MedDialog** (medical dialogues dataset).  \n",
        "   - **PubMed articles** for extracting common patient-reported concerns.  \n",
        "\n"
      ],
      "metadata": {
        "id": "veNQnsmNY2BN"
      }
    },
    {
      "cell_type": "markdown",
      "source": [
        "3. SOAP Note Generation (Bonus)"
      ],
      "metadata": {
        "id": "Ni0wlT6RKPPt"
      }
    },
    {
      "cell_type": "code",
      "source": [
        "# Generate SOAP note\n",
        "soap_note = {\n",
        "    \"Subjective\": {\n",
        "        \"Chief_Complaint\": \"Neck and back pain\",\n",
        "        \"History_of_Present_Illness\": \"Patient had a car accident, experienced pain for four weeks, now occasional back pain.\"\n",
        "    },\n",
        "    \"Objective\": {\n",
        "        \"Physical_Exam\": \"Full range of motion in cervical and lumbar spine, no tenderness.\",\n",
        "        \"Observations\": \"Patient appears in normal health, normal gait.\"\n",
        "    },\n",
        "    \"Assessment\": {\n",
        "        \"Diagnosis\": \"Whiplash injury and lower back strain\",\n",
        "        \"Severity\": \"Mild, improving\"\n",
        "    },\n",
        "    \"Plan\": {\n",
        "        \"Treatment\": \"Continue physiotherapy as needed, use analgesics for pain relief.\",\n",
        "        \"Follow-Up\": \"Patient to return if pain worsens or persists beyond six months.\"\n",
        "    }\n",
        "}\n",
        "\n",
        "print(soap_note)"
      ],
      "metadata": {
        "colab": {
          "base_uri": "https://localhost:8080/"
        },
        "id": "Alctq0CvKQ5a",
        "outputId": "e0b81fe7-7173-436c-9f58-1db2a2277428"
      },
      "execution_count": 5,
      "outputs": [
        {
          "output_type": "stream",
          "name": "stdout",
          "text": [
            "{'Subjective': {'Chief_Complaint': 'Neck and back pain', 'History_of_Present_Illness': 'Patient had a car accident, experienced pain for four weeks, now occasional back pain.'}, 'Objective': {'Physical_Exam': 'Full range of motion in cervical and lumbar spine, no tenderness.', 'Observations': 'Patient appears in normal health, normal gait.'}, 'Assessment': {'Diagnosis': 'Whiplash injury and lower back strain', 'Severity': 'Mild, improving'}, 'Plan': {'Treatment': 'Continue physiotherapy as needed, use analgesics for pain relief.', 'Follow-Up': 'Patient to return if pain worsens or persists beyond six months.'}}\n"
          ]
        }
      ]
    },
    {
      "cell_type": "markdown",
      "source": [
        "**📍 Questions:**\n",
        "\n",
        "- How would you train an NLP model to **map medical transcripts into SOAP format**?\n",
        "- What **rule-based or deep-learning** techniques would improve the accuracy of SOAP note generation?"
      ],
      "metadata": {
        "id": "ICQdACojZblM"
      }
    },
    {
      "cell_type": "markdown",
      "source": [
        "\n",
        "### **Training an NLP model for SOAP note generation:**  \n",
        "   - Use GPT-4 or T5 fine-tuned on clinical notes (SOAP format).  \n",
        "   - Train on datasets like MIMIC-III and i2b2 for structuring unstructured clinical dialogues.  \n",
        "   - Use prompt engineering for zero-shot or few-shot learning with LLMs.  \n",
        "   - Employ rule-based methods for structuring sections when AI predictions are uncertain.  \n",
        "\n",
        "### **Techniques for improving SOAP note accuracy:**  \n",
        "   - **Hybrid approach:** Combine rule-based extraction (e.g., regex for medical terms) with deep learning models (BioBERT or T5).  \n",
        "   - **Context-aware summarization:** Use transformers with attention mechanisms to ensure details are grouped logically.  \n",
        "   - **Reinforcement learning with human feedback:** Iterate model outputs by incorporating clinician feedback to refine structuring.  \n",
        "   - **Domain adaptation:** Fine-tune models with real-world SOAP notes from datasets like MIMIC-III.  "
      ],
      "metadata": {
        "id": "vPcMroNLZAiP"
      }
    }
  ]
}